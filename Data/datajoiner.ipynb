{
 "cells": [
  {
   "cell_type": "code",
   "execution_count": 10,
   "id": "88d9693d",
   "metadata": {},
   "outputs": [],
   "source": [
    "import pandas as pd\n",
    "import zipfile\n",
    "# pip install zipfile36"
   ]
  },
  {
   "cell_type": "code",
   "execution_count": 11,
   "id": "ab89eb5d",
   "metadata": {},
   "outputs": [],
   "source": [
    "# read each file into a variable\n",
    "# jan21 = pd.read_csv('JC-202101-citibike-tripdata.csv')\n",
    "feb21 = pd.read_csv('JC-202102-citibike-tripdata.csv')\n",
    "mar21 = pd.read_csv('JC-202103-citibike-tripdata.csv')\n",
    "abr21 = pd.read_csv('JC-202104-citibike-tripdata.csv')\n",
    "may21 = pd.read_csv('JC-202105-citibike-tripdata.csv')\n",
    "jun21 = pd.read_csv('JC-202106-citibike-tripdata.csv')"
   ]
  },
  {
   "cell_type": "code",
   "execution_count": 12,
   "id": "11566b6c",
   "metadata": {},
   "outputs": [],
   "source": [
    "# concatenate all files in a single dataframe\n",
    "first_sem_df = pd.concat([feb21,mar21,abr21,may21,jun21])"
   ]
  },
  {
   "cell_type": "code",
   "execution_count": 15,
   "id": "437a3767",
   "metadata": {},
   "outputs": [
    {
     "data": {
      "text/html": [
       "<div>\n",
       "<style scoped>\n",
       "    .dataframe tbody tr th:only-of-type {\n",
       "        vertical-align: middle;\n",
       "    }\n",
       "\n",
       "    .dataframe tbody tr th {\n",
       "        vertical-align: top;\n",
       "    }\n",
       "\n",
       "    .dataframe thead th {\n",
       "        text-align: right;\n",
       "    }\n",
       "</style>\n",
       "<table border=\"1\" class=\"dataframe\">\n",
       "  <thead>\n",
       "    <tr style=\"text-align: right;\">\n",
       "      <th></th>\n",
       "      <th>start_lat</th>\n",
       "      <th>start_lng</th>\n",
       "      <th>end_lat</th>\n",
       "      <th>end_lng</th>\n",
       "    </tr>\n",
       "  </thead>\n",
       "  <tbody>\n",
       "    <tr>\n",
       "      <th>count</th>\n",
       "      <td>162249.000000</td>\n",
       "      <td>162249.000000</td>\n",
       "      <td>161750.000000</td>\n",
       "      <td>161750.000000</td>\n",
       "    </tr>\n",
       "    <tr>\n",
       "      <th>mean</th>\n",
       "      <td>40.727267</td>\n",
       "      <td>-74.043144</td>\n",
       "      <td>40.727104</td>\n",
       "      <td>-74.042757</td>\n",
       "    </tr>\n",
       "    <tr>\n",
       "      <th>std</th>\n",
       "      <td>0.011364</td>\n",
       "      <td>0.012478</td>\n",
       "      <td>0.011490</td>\n",
       "      <td>0.012401</td>\n",
       "    </tr>\n",
       "    <tr>\n",
       "      <th>min</th>\n",
       "      <td>40.706575</td>\n",
       "      <td>-74.086701</td>\n",
       "      <td>40.646377</td>\n",
       "      <td>-74.086701</td>\n",
       "    </tr>\n",
       "    <tr>\n",
       "      <th>25%</th>\n",
       "      <td>40.718488</td>\n",
       "      <td>-74.049637</td>\n",
       "      <td>40.718355</td>\n",
       "      <td>-74.048790</td>\n",
       "    </tr>\n",
       "    <tr>\n",
       "      <th>50%</th>\n",
       "      <td>40.725289</td>\n",
       "      <td>-74.042817</td>\n",
       "      <td>40.724605</td>\n",
       "      <td>-74.042435</td>\n",
       "    </tr>\n",
       "    <tr>\n",
       "      <th>75%</th>\n",
       "      <td>40.735937</td>\n",
       "      <td>-74.033551</td>\n",
       "      <td>40.735938</td>\n",
       "      <td>-74.033552</td>\n",
       "    </tr>\n",
       "    <tr>\n",
       "      <th>max</th>\n",
       "      <td>40.754530</td>\n",
       "      <td>-74.024352</td>\n",
       "      <td>40.848467</td>\n",
       "      <td>-73.891677</td>\n",
       "    </tr>\n",
       "  </tbody>\n",
       "</table>\n",
       "</div>"
      ],
      "text/plain": [
       "           start_lat      start_lng        end_lat        end_lng\n",
       "count  162249.000000  162249.000000  161750.000000  161750.000000\n",
       "mean       40.727267     -74.043144      40.727104     -74.042757\n",
       "std         0.011364       0.012478       0.011490       0.012401\n",
       "min        40.706575     -74.086701      40.646377     -74.086701\n",
       "25%        40.718488     -74.049637      40.718355     -74.048790\n",
       "50%        40.725289     -74.042817      40.724605     -74.042435\n",
       "75%        40.735937     -74.033551      40.735938     -74.033552\n",
       "max        40.754530     -74.024352      40.848467     -73.891677"
      ]
     },
     "execution_count": 15,
     "metadata": {},
     "output_type": "execute_result"
    }
   ],
   "source": [
    "first_sem_df.describe()"
   ]
  },
  {
   "cell_type": "code",
   "execution_count": 13,
   "id": "3602556f",
   "metadata": {},
   "outputs": [],
   "source": [
    "first_sem_df.to_csv('firstsemester21.csv')"
   ]
  },
  {
   "cell_type": "code",
   "execution_count": null,
   "id": "1ed57a2f",
   "metadata": {},
   "outputs": [],
   "source": []
  }
 ],
 "metadata": {
  "kernelspec": {
   "display_name": "Python 3",
   "language": "python",
   "name": "python3"
  },
  "language_info": {
   "codemirror_mode": {
    "name": "ipython",
    "version": 3
   },
   "file_extension": ".py",
   "mimetype": "text/x-python",
   "name": "python",
   "nbconvert_exporter": "python",
   "pygments_lexer": "ipython3",
   "version": "3.8.8"
  }
 },
 "nbformat": 4,
 "nbformat_minor": 5
}
