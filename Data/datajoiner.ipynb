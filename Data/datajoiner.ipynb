{
 "cells": [
  {
   "cell_type": "code",
   "execution_count": 1,
   "id": "88d9693d",
   "metadata": {},
   "outputs": [],
   "source": [
    "import pandas as pd"
   ]
  },
  {
   "cell_type": "code",
   "execution_count": 3,
   "id": "26b2985c",
   "metadata": {},
   "outputs": [],
   "source": [
    "# read each file into a variable\n",
    "jan21 = pd.read_csv('JC-202101-citibike-tripdata.csv')\n",
    "feb21 = pd.read_csv('JC-202102-citibike-tripdata.csv')\n",
    "mar21 = pd.read_csv('JC-202103-citibike-tripdata.csv')\n",
    "abr21 = pd.read_csv('JC-202104-citibike-tripdata.csv')\n",
    "may21 = pd.read_csv('JC-202105-citibike-tripdata.csv')\n",
    "jun21 = pd.read_csv('JC-202106-citibike-tripdata.csv')"
   ]
  },
  {
   "cell_type": "code",
   "execution_count": 4,
   "id": "65687433",
   "metadata": {},
   "outputs": [],
   "source": [
    "# concatenate all files in a single dataframe\n",
    "first_sem_df = pd.concat([jan21,feb21,mar21,abr21,may21,jun21])"
   ]
  },
  {
   "cell_type": "code",
   "execution_count": null,
   "id": "63ac6c46",
   "metadata": {},
   "outputs": [],
   "source": [
    "first_sem_df.to_csv('firstsemester21.csv')"
   ]
  },
  {
   "cell_type": "code",
   "execution_count": null,
   "id": "3f63811b",
   "metadata": {},
   "outputs": [],
   "source": []
  }
 ],
 "metadata": {
  "kernelspec": {
   "display_name": "Python 3",
   "language": "python",
   "name": "python3"
  },
  "language_info": {
   "codemirror_mode": {
    "name": "ipython",
    "version": 3
   },
   "file_extension": ".py",
   "mimetype": "text/x-python",
   "name": "python",
   "nbconvert_exporter": "python",
   "pygments_lexer": "ipython3",
   "version": "3.8.8"
  }
 },
 "nbformat": 4,
 "nbformat_minor": 5
}
